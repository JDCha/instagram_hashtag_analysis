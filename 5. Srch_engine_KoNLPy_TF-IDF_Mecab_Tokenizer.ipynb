{
 "cells": [
  {
   "cell_type": "markdown",
   "metadata": {},
   "source": [
    "출처: https://blog.breezymind.com/2018/03/02/sklearn-feature_extraction-text-2/"
   ]
  },
  {
   "cell_type": "code",
   "execution_count": 13,
   "metadata": {},
   "outputs": [
    {
     "data": {
      "text/plain": [
       "(61, 2)"
      ]
     },
     "execution_count": 13,
     "metadata": {},
     "output_type": "execute_result"
    }
   ],
   "source": [
    "import pandas as pd\n",
    "import numpy as np\n",
    "pd.options.mode.chained_assignment = None\n",
    "np.random.seed(0)\n",
    "\n",
    "from konlpy.tag import Mecab\n",
    "mecab = Mecab()\n",
    "\n",
    "\n",
    "from sklearn.feature_extraction.text import TfidfVectorizer, CountVectorizer\n",
    "from sklearn.metrics.pairwise import linear_kernel, cosine_similarity\n",
    "\n",
    "# tokenizer : 문장에서 색인어 추출을 위해 명사,동사,알파벳,숫자 정도의 단어만 뽑아서 normalization, stemming 처리하도록 함\n",
    "def tokenizer(raw, pos=[\"NNG\",\"NNP\"], stopword=['수','퀄리티','도시','분','전문','스타','년','원',\\\n",
    "                       '월','화','수','목','금','시','앤','일','그램','문'] ):\n",
    "    return [\n",
    "        word for word, tag in mecab.pos(raw)\n",
    "            if len(word) > 1 and tag in pos and word not in stopword\n",
    "        ]\n",
    "\n",
    "# 테스트 문장\n",
    "df = pd.read_csv(\"word2vec_wrangling.csv\")\n",
    "df.shape"
   ]
  },
  {
   "cell_type": "code",
   "execution_count": null,
   "metadata": {
    "hide_input": true
   },
   "outputs": [],
   "source": []
  },
  {
   "cell_type": "code",
   "execution_count": 14,
   "metadata": {},
   "outputs": [
    {
     "data": {
      "text/html": [
       "<div>\n",
       "<style scoped>\n",
       "    .dataframe tbody tr th:only-of-type {\n",
       "        vertical-align: middle;\n",
       "    }\n",
       "\n",
       "    .dataframe tbody tr th {\n",
       "        vertical-align: top;\n",
       "    }\n",
       "\n",
       "    .dataframe thead th {\n",
       "        text-align: right;\n",
       "    }\n",
       "</style>\n",
       "<table border=\"1\" class=\"dataframe\">\n",
       "  <thead>\n",
       "    <tr style=\"text-align: right;\">\n",
       "      <th></th>\n",
       "      <th>exercise_name</th>\n",
       "      <th>Content_txt</th>\n",
       "    </tr>\n",
       "  </thead>\n",
       "  <tbody>\n",
       "    <tr>\n",
       "      <td>0</td>\n",
       "      <td>PT</td>\n",
       "      <td>💯 What I try to educate my clients around, doe...</td>\n",
       "    </tr>\n",
       "    <tr>\n",
       "      <td>1</td>\n",
       "      <td>검도</td>\n",
       "      <td>#20200115\\n저녁 초대!\\n와인잔 속에 비치는\\n모든 것들이 화려한\\n도심속...</td>\n",
       "    </tr>\n",
       "    <tr>\n",
       "      <td>2</td>\n",
       "      <td>기구필라테스</td>\n",
       "      <td>#오늘의동작\\n캐딜락 동작의 완성 '행잉'\\n⠀\\n중력을 이용해 척추를 늘려주고\\n...</td>\n",
       "    </tr>\n",
       "    <tr>\n",
       "      <td>3</td>\n",
       "      <td>다빈치바디보드</td>\n",
       "      <td>#mbn생생정보마당 \\n#고투\\n#고투GX\\n#다빈치바디보드\\n#생방송 #GOTOL...</td>\n",
       "    </tr>\n",
       "    <tr>\n",
       "      <td>4</td>\n",
       "      <td>드럼스틱</td>\n",
       "      <td>#드럼스틱 #고무팁 #테크라스틱 #전자드럼용스틱\\n\\n1. 전자드럼타격시 덜 시끄럽...</td>\n",
       "    </tr>\n",
       "  </tbody>\n",
       "</table>\n",
       "</div>"
      ],
      "text/plain": [
       "  exercise_name                                        Content_txt\n",
       "0            PT  💯 What I try to educate my clients around, doe...\n",
       "1            검도  #20200115\\n저녁 초대!\\n와인잔 속에 비치는\\n모든 것들이 화려한\\n도심속...\n",
       "2        기구필라테스  #오늘의동작\\n캐딜락 동작의 완성 '행잉'\\n⠀\\n중력을 이용해 척추를 늘려주고\\n...\n",
       "3       다빈치바디보드  #mbn생생정보마당 \\n#고투\\n#고투GX\\n#다빈치바디보드\\n#생방송 #GOTOL...\n",
       "4          드럼스틱  #드럼스틱 #고무팁 #테크라스틱 #전자드럼용스틱\\n\\n1. 전자드럼타격시 덜 시끄럽..."
      ]
     },
     "execution_count": 14,
     "metadata": {},
     "output_type": "execute_result"
    }
   ],
   "source": [
    "df.head()"
   ]
  },
  {
   "cell_type": "code",
   "execution_count": 15,
   "metadata": {},
   "outputs": [],
   "source": [
    "import re\n",
    "\n",
    "def preprocessing(text):\n",
    "    # 개행문자 제거\n",
    "    text = re.sub('\\\\\\\\n', ' ', text)\n",
    "    # 특수문자 제거\n",
    "    # 특수문자나 이모티콘 등은 때로는 의미를 갖기도 하지만 여기에서는 제거했습니다.\n",
    "    # text = re.sub('[?.,;:|\\)*~`’!^\\-_+<>@\\#$%&-=#}※]', '', text)\n",
    "    # 한글, 영문, 숫자만 남기고 모두 제거하도록 합니다.\n",
    "    # text = re.sub('[^가-힣ㄱ-ㅎㅏ-ㅣa-zA-Z0-9]', ' ', text)\n",
    "    # 한글, 영문만 남기고 모두 제거하도록 합니다.\n",
    "    text = re.sub('[^가-힣ㄱ-ㅎㅏ-ㅣa-zA-Z]', ' ', text)\n",
    "    return text"
   ]
  },
  {
   "cell_type": "code",
   "execution_count": 16,
   "metadata": {},
   "outputs": [
    {
     "name": "stdout",
     "output_type": "stream",
     "text": [
      "CPU times: user 1.01 s, sys: 29.9 ms, total: 1.04 s\n",
      "Wall time: 1.15 s\n"
     ]
    }
   ],
   "source": [
    "%time rawdata = df['Content_txt'].apply(preprocessing)"
   ]
  },
  {
   "cell_type": "code",
   "execution_count": 5,
   "metadata": {},
   "outputs": [
    {
     "name": "stdout",
     "output_type": "stream",
     "text": [
      "[[0.         0.02304771 0.         ... 0.         0.         0.        ]\n",
      " [0.00731699 0.00520238 0.         ... 0.         0.         0.01417282]\n",
      " [0.01754004 0.01806715 0.         ... 0.         0.         0.        ]\n",
      " ...\n",
      " [0.01625052 0.02232546 0.         ... 0.01161061 0.         0.        ]\n",
      " [0.01834636 0.0212857  0.         ... 0.         0.         0.        ]\n",
      " [0.         0.02156329 0.         ... 0.         0.         0.07388052]]\n"
     ]
    }
   ],
   "source": [
    "vectorize = TfidfVectorizer(\n",
    "    tokenizer=tokenizer,\n",
    "    min_df=5,\n",
    "    sublinear_tf=True    # tf값에 1+log(tf)를 적용하여 tf값이 무한정 커지는 것을 막음\n",
    ")\n",
    "X = vectorize.fit_transform(rawdata)\n",
    "\n",
    "# fit_transform, (sentence 5, feature 7)\n",
    "\n",
    "print(X.toarray())\n",
    "\n",
    "# ([[0.        , 0.40824829, 0.81649658, 0.        , 0.        , 0.        , 0.40824829],\n",
    "# [0.        , 0.40824829, 0.40824829, 0.        , 0.        , 0.        , 0.81649658],\n",
    "# [0.41680418, 0.        , 0.        , 0.69197025, 0.41680418, 0.41680418, 0.        ],\n",
    "# [0.76944707, 0.        , 0.        , 0.63871058, 0.        , 0.        , 0.        ],\n",
    "# [0.        , 0.        , 0.        , 0.8695635 , 0.34918428, 0.34918428, 0.        ]])\n",
    "\n",
    "# 문장에서 뽑아낸 feature 들의 배열\n",
    "features = vectorize.get_feature_names()"
   ]
  },
  {
   "cell_type": "code",
   "execution_count": 6,
   "metadata": {},
   "outputs": [
    {
     "name": "stdout",
     "output_type": "stream",
     "text": [
      "9661\n"
     ]
    }
   ],
   "source": [
    "print(len(features))"
   ]
  },
  {
   "cell_type": "code",
   "execution_count": 7,
   "metadata": {},
   "outputs": [
    {
     "data": {
      "text/plain": [
       "['가게', '가격', '가경동', '가공', '가구', '가금', '가까이', '가네샤', '가늠', '가능', '가동', '가드']"
      ]
     },
     "execution_count": 7,
     "metadata": {},
     "output_type": "execute_result"
    }
   ],
   "source": [
    "features[:12]"
   ]
  },
  {
   "cell_type": "code",
   "execution_count": 9,
   "metadata": {},
   "outputs": [
    {
     "name": "stdout",
     "output_type": "stream",
     "text": [
      "['운동', '다이어트']\n"
     ]
    }
   ],
   "source": [
    "# 검색 문장에서 feature를 뽑아냄\n",
    "srch=[t for t in tokenizer('살 빠지는 운동, 다이어트') if t in features]\n",
    "print(srch)"
   ]
  },
  {
   "cell_type": "code",
   "execution_count": 10,
   "metadata": {},
   "outputs": [
    {
     "name": "stdout",
     "output_type": "stream",
     "text": [
      "61\n"
     ]
    },
    {
     "data": {
      "text/plain": [
       "array([[0.06352614, 0.0552553 ],\n",
       "       [0.0338335 , 0.02703658],\n",
       "       [0.03261501, 0.02843541],\n",
       "       [0.03615956, 0.03098877],\n",
       "       [0.02087139, 0.01433861],\n",
       "       [0.03129328, 0.02663654],\n",
       "       [0.03310441, 0.03280607],\n",
       "       [0.03386523, 0.02767317],\n",
       "       [0.03693905, 0.03727112],\n",
       "       [0.03386949, 0.03358315],\n",
       "       [0.02884251, 0.02493719],\n",
       "       [0.03272411, 0.02920457],\n",
       "       [0.02905333, 0.02857701],\n",
       "       [0.03782721, 0.03336418],\n",
       "       [0.03787701, 0.03330625],\n",
       "       [0.03649797, 0.0309647 ],\n",
       "       [0.03464524, 0.03375994],\n",
       "       [0.02868688, 0.01445444],\n",
       "       [0.0286425 , 0.02518272],\n",
       "       [0.03315197, 0.02619818],\n",
       "       [0.03190364, 0.0316416 ],\n",
       "       [0.02639931, 0.01724693],\n",
       "       [0.03356973, 0.02866724],\n",
       "       [0.02669378, 0.01658048],\n",
       "       [0.03055554, 0.02441574],\n",
       "       [0.0312415 , 0.02727438],\n",
       "       [0.02702579, 0.0226714 ],\n",
       "       [0.03419773, 0.02798583],\n",
       "       [0.06090998, 0.04282384],\n",
       "       [0.08576145, 0.04947413],\n",
       "       [0.04073216, 0.02745944],\n",
       "       [0.03437352, 0.03273768],\n",
       "       [0.12866966, 0.04360365],\n",
       "       [0.02944451, 0.02568083],\n",
       "       [0.06013438, 0.03545018],\n",
       "       [0.02191491, 0.02074682],\n",
       "       [0.03580685, 0.02701562],\n",
       "       [0.03561605, 0.03066793],\n",
       "       [0.03678014, 0.03397466],\n",
       "       [0.03647141, 0.03359381],\n",
       "       [0.03087687, 0.02745021],\n",
       "       [0.03868304, 0.03298257],\n",
       "       [0.03599498, 0.03077018],\n",
       "       [0.03733186, 0.02830385],\n",
       "       [0.03658623, 0.03476085],\n",
       "       [0.02088416, 0.02232491],\n",
       "       [0.03180214, 0.02869356],\n",
       "       [0.04300799, 0.03608918],\n",
       "       [0.03027471, 0.02048799],\n",
       "       [0.12235442, 0.        ],\n",
       "       [0.03965288, 0.02783777],\n",
       "       [0.03742276, 0.03006055],\n",
       "       [0.03362414, 0.02963269],\n",
       "       [0.0317575 , 0.0269771 ],\n",
       "       [0.04058869, 0.03482174],\n",
       "       [0.10583776, 0.0883718 ],\n",
       "       [0.03988528, 0.03692951],\n",
       "       [0.02318421, 0.01966533],\n",
       "       [0.03243396, 0.03223128],\n",
       "       [0.03597101, 0.03049427],\n",
       "       [0.04612304, 0.03329578]])"
      ]
     },
     "execution_count": 10,
     "metadata": {},
     "output_type": "execute_result"
    }
   ],
   "source": [
    "# dtm 에서 검색하고자 하는 feature만 뽑아낸다.\n",
    "srch_dtm = np.asarray(X.toarray())[:, [\n",
    "    # vectorize.vocabulary_.get 는 특정 feature 가 dtm 에서 가지고 있는 index값을 리턴한다\n",
    "    vectorize.vocabulary_.get(i) for i in srch\n",
    "]]\n",
    "\n",
    "print(len(srch_dtm))\n",
    "srch_dtm"
   ]
  },
  {
   "cell_type": "code",
   "execution_count": 11,
   "metadata": {},
   "outputs": [
    {
     "data": {
      "text/plain": [
       "array([0.11878144, 0.06087009, 0.06105042, 0.06714834, 0.03521   ,\n",
       "       0.05792982, 0.06591048, 0.0615384 , 0.07421017, 0.06745265,\n",
       "       0.05377971, 0.06192868, 0.05763035, 0.07119139, 0.07118326,\n",
       "       0.06746267, 0.06840518, 0.04314132, 0.05382522, 0.05935015,\n",
       "       0.06354523, 0.04364623, 0.06223696, 0.04327426, 0.05497127,\n",
       "       0.05851587, 0.04969719, 0.06218356, 0.10373383, 0.13523559,\n",
       "       0.0681916 , 0.0671112 , 0.17227331, 0.05512534, 0.09558456,\n",
       "       0.04266173, 0.06282246, 0.06628397, 0.07075479, 0.07006523,\n",
       "       0.05832708, 0.07166561, 0.06676516, 0.06563571, 0.07134709,\n",
       "       0.04320907, 0.0604957 , 0.07909717, 0.0507627 , 0.12235442,\n",
       "       0.06749065, 0.06748331, 0.06325683, 0.0587346 , 0.07541042,\n",
       "       0.19420956, 0.07681479, 0.04284953, 0.06466524, 0.06646528,\n",
       "       0.07941882])"
      ]
     },
     "execution_count": 11,
     "metadata": {},
     "output_type": "execute_result"
    }
   ],
   "source": [
    "score = srch_dtm.sum(axis=1)\n",
    "score"
   ]
  },
  {
   "cell_type": "code",
   "execution_count": 12,
   "metadata": {},
   "outputs": [
    {
     "name": "stdout",
     "output_type": "stream",
     "text": [
      "('필라테스', 0.19420956231914588)\n",
      "('에이리얼후프', 0.17227330852319234)\n",
      "('아쿠아테크', 0.13523558540317412)\n",
      "('패들핏', 0.12235441995412155)\n",
      "('PT', 0.11878144239726723)\n",
      "('아쿠아바이크', 0.10373382751965243)\n",
      "('요가쿠아', 0.09558456162754625)\n",
      "('힙레', 0.07941882243444937)\n",
      "('파운드핏', 0.0790971689574306)\n",
      "('필록싱', 0.07681478914890219)\n",
      "('플라잉필라테스', 0.07541042021477098)\n",
      "('뮤직복싱', 0.07421017128839055)\n",
      "('줌바', 0.07166561039781895)\n",
      "('타바타', 0.07134708844525589)\n",
      "('번지댄스', 0.07119138701656397)\n",
      "('번지요가', 0.07118326121878153)\n",
      "('점핑피트니스', 0.07075479457842335)\n",
      "('조깅', 0.07006522786254865)\n",
      "('복싱', 0.06840518099959292)\n",
      "('암벽등반', 0.06819160000798577)\n",
      "('펜싱', 0.06749064976822002)\n",
      "('폴댄스', 0.06748330685316975)\n",
      "('번지피트니스', 0.06746267048465115)\n",
      "('바차타', 0.06745264847120716)\n",
      "('다빈치바디보드', 0.06714833548626901)\n",
      "('에어로빅', 0.06711120067304044)\n",
      "('크로스핏', 0.06676515684623441)\n",
      "('헬스', 0.06646528178858763)\n",
      "('재즈댄스', 0.0662839745529735)\n",
      "('라틴댄스', 0.06591048295033884)\n",
      "('키네시스', 0.06563570888330617)\n"
     ]
    }
   ],
   "source": [
    "for i in score.argsort()[::-1]:\n",
    "    if score[i] > 0.065:\n",
    "        print((df['exercise_name'].iloc[i], score[i]))"
   ]
  },
  {
   "cell_type": "code",
   "execution_count": null,
   "metadata": {},
   "outputs": [],
   "source": []
  },
  {
   "cell_type": "code",
   "execution_count": null,
   "metadata": {},
   "outputs": [],
   "source": []
  }
 ],
 "metadata": {
  "kernelspec": {
   "display_name": "Python 3",
   "language": "python",
   "name": "python3"
  },
  "language_info": {
   "codemirror_mode": {
    "name": "ipython",
    "version": 3
   },
   "file_extension": ".py",
   "mimetype": "text/x-python",
   "name": "python",
   "nbconvert_exporter": "python",
   "pygments_lexer": "ipython3",
   "version": "3.7.4"
  },
  "toc": {
   "base_numbering": 1,
   "nav_menu": {},
   "number_sections": true,
   "sideBar": true,
   "skip_h1_title": false,
   "title_cell": "Table of Contents",
   "title_sidebar": "Contents",
   "toc_cell": false,
   "toc_position": {},
   "toc_section_display": true,
   "toc_window_display": false
  },
  "varInspector": {
   "cols": {
    "lenName": 16,
    "lenType": 16,
    "lenVar": 40
   },
   "kernels_config": {
    "python": {
     "delete_cmd_postfix": "",
     "delete_cmd_prefix": "del ",
     "library": "var_list.py",
     "varRefreshCmd": "print(var_dic_list())"
    },
    "r": {
     "delete_cmd_postfix": ") ",
     "delete_cmd_prefix": "rm(",
     "library": "var_list.r",
     "varRefreshCmd": "cat(var_dic_list()) "
    }
   },
   "types_to_exclude": [
    "module",
    "function",
    "builtin_function_or_method",
    "instance",
    "_Feature"
   ],
   "window_display": false
  }
 },
 "nbformat": 4,
 "nbformat_minor": 2
}
